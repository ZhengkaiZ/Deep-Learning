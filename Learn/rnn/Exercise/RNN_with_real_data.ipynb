{
 "cells": [
  {
   "cell_type": "code",
   "execution_count": 1,
   "metadata": {
    "collapsed": true
   },
   "outputs": [],
   "source": [
    "import tensorflow as tf\n",
    "import numpy as np\n",
    "import pandas as pd\n",
    "import matplotlib.pyplot as plt\n",
    "from sklearn.model_selection import train_test_split\n",
    "from sklearn.preprocessing import MinMaxScaler\n",
    "%matplotlib inline"
   ]
  },
  {
   "cell_type": "code",
   "execution_count": 63,
   "metadata": {},
   "outputs": [],
   "source": [
    "milk_data = pd.read_csv(\"monthly-milk-production.csv\", index_col=\"Month\")\n",
    "milk_data.index = pd.to_datetime(milk_data.index)\n",
    "\n",
    "#  train and test split\n",
    "data_train = milk_data.head(len(milk_data) - 12)\n",
    "data_test = milk_data.tail(12)\n",
    "\n",
    "# Scale data by using MinMaxScaler\n",
    "scaler = MinMaxScaler()\n",
    "train_scaled = scaler.fit_transform(data_train)\n",
    "# shouldn not fit into test_data, otherwise we know the data\n",
    "test_scaled = scaler.transform(data_test)"
   ]
  },
  {
   "cell_type": "code",
   "execution_count": 21,
   "metadata": {
    "collapsed": true
   },
   "outputs": [],
   "source": [
    "def next_batch(training_data, steps=12):\n",
    "    # random starting point\n",
    "    rand_start = np.random.randint(0, len(training_data) - steps)\n",
    "    \n",
    "    y_batch = np.array(training_data[rand_start:(rand_start + steps + 1)]).reshape(1, steps + 1)\n",
    "    return y_batch[:, :-1].reshape(-1, steps, 1), y_batch[:, 1:].reshape(-1, steps, 1)"
   ]
  },
  {
   "cell_type": "code",
   "execution_count": null,
   "metadata": {},
   "outputs": [
    {
     "name": "stdout",
     "output_type": "stream",
     "text": [
      "0 \tMSE: 0.0533958\n",
      "100 \tMSE: 0.0373013\n",
      "200 \tMSE: 0.0556412\n",
      "300 \tMSE: 0.0383744\n",
      "400 \tMSE: 0.00706183\n",
      "500 \tMSE: 0.0174182\n",
      "600 \tMSE: 0.0116466\n",
      "700 \tMSE: 0.00665787\n",
      "800 \tMSE: 0.00643335\n",
      "900 \tMSE: 0.00963745\n",
      "1000 \tMSE: 0.00921388\n",
      "1100 \tMSE: 0.00674248\n",
      "1200 \tMSE: 0.00892923\n",
      "1300 \tMSE: 0.00918238\n",
      "1400 \tMSE: 0.00822948\n",
      "1500 \tMSE: 0.0055818\n",
      "1600 \tMSE: 0.00722552\n",
      "1700 \tMSE: 0.00702582\n",
      "1800 \tMSE: 0.00899383\n",
      "1900 \tMSE: 0.00851852\n",
      "2000 \tMSE: 0.00811483\n",
      "2100 \tMSE: 0.00609353\n",
      "2200 \tMSE: 0.0113428\n",
      "2300 \tMSE: 0.00689712\n",
      "2400 \tMSE: 0.00788853\n",
      "2500 \tMSE: 0.0118268\n",
      "2600 \tMSE: 0.00999158\n",
      "2700 \tMSE: 0.00754471\n"
     ]
    }
   ],
   "source": [
    "num_inputs = 1\n",
    "num_time_step = 12\n",
    "num_neuraon_per_layer = 150\n",
    "num_output = 1\n",
    "learning_rate = 0.001\n",
    "num_iteration = 4000\n",
    "batch_size = 1\n",
    "tf.reset_default_graph()\n",
    "\n",
    "X = tf.placeholder(dtype=tf.float32, shape=[None, num_time_step, num_inputs])\n",
    "y = tf.placeholder(dtype=tf.float32, shape=[None, num_time_step, num_inputs])\n",
    "\n",
    "cell = tf.contrib.rnn.OutputProjectionWrapper(\n",
    "    tf.contrib.rnn.BasicLSTMCell(num_units=num_neuraon_per_layer, activation=tf.nn.relu), num_output)\n",
    "outputs, states = tf.nn.dynamic_rnn(cell, X, dtype=tf.float32)\n",
    "\n",
    "loss = tf.reduce_mean(tf.square(y - outputs))\n",
    "optimizer = tf.train.AdamOptimizer(learning_rate=learning_rate)\n",
    "train = optimizer.minimize(loss)\n",
    "\n",
    "init = tf.global_variables_initializer()\n",
    "\n",
    "gpu_options = tf.GPUOptions(per_process_gpu_memory_fraction=0.85)\n",
    "\n",
    "saver = tf.train.Saver()\n",
    "\n",
    "with tf.Session() as sess:\n",
    "    sess.run(init)\n",
    "    \n",
    "    for iteration in range(num_iteration):\n",
    "        x_batch, y_batch = next_batch(training_data=train_scaled)\n",
    "        \n",
    "        sess.run(train, feed_dict={X:x_batch, y:y_batch})\n",
    "        \n",
    "        if iteration % 100 == 0:\n",
    "            \n",
    "            mse = loss.eval(feed_dict={X:x_batch, y:y_batch})\n",
    "            print (iteration, \"\\tMSE:\", mse)\n",
    "\n",
    "    saver.save(sess, \"./RNN_With_Real_Data\")"
   ]
  },
  {
   "cell_type": "code",
   "execution_count": null,
   "metadata": {},
   "outputs": [],
   "source": [
    "type(outputs)"
   ]
  },
  {
   "cell_type": "code",
   "execution_count": 73,
   "metadata": {},
   "outputs": [
    {
     "name": "stdout",
     "output_type": "stream",
     "text": [
      "INFO:tensorflow:Restoring parameters from ./RNN_With_Real_Data\n",
      "[array([ 0.66105769]), array([ 0.54086538]), array([ 0.80769231]), array([ 0.83894231]), array([ 1.]), array([ 0.94711538]), array([ 0.85336538]), array([ 0.75480769]), array([ 0.62980769]), array([ 0.62259615]), array([ 0.52884615]), array([ 0.625])]\n",
      "                     Milk Production    Generate\n",
      "Month                                           \n",
      "1975-01-01 01:00:00            834.0  818.253052\n",
      "1975-02-01 01:00:00            782.0  836.553223\n",
      "1975-03-01 01:00:00            892.0  891.526062\n",
      "1975-04-01 01:00:00            903.0  946.614380\n",
      "1975-05-01 01:00:00            966.0  973.725586\n",
      "1975-06-01 01:00:00            937.0  943.118591\n",
      "1975-07-01 01:00:00            896.0  882.808533\n",
      "1975-08-01 01:00:00            858.0  826.513184\n",
      "1975-09-01 01:00:00            817.0  781.059631\n",
      "1975-10-01 01:00:00            827.0  755.019653\n",
      "1975-11-01 01:00:00            797.0  755.065186\n",
      "1975-12-01 01:00:00            843.0  772.562073\n"
     ]
    },
    {
     "name": "stderr",
     "output_type": "stream",
     "text": [
      "/anaconda2/envs/tfdeeplearning/lib/python3.5/site-packages/ipykernel_launcher.py:13: SettingWithCopyWarning: \n",
      "A value is trying to be set on a copy of a slice from a DataFrame.\n",
      "Try using .loc[row_indexer,col_indexer] = value instead\n",
      "\n",
      "See the caveats in the documentation: http://pandas.pydata.org/pandas-docs/stable/indexing.html#indexing-view-versus-copy\n",
      "  del sys.path[0]\n"
     ]
    }
   ],
   "source": [
    "with tf.Session() as sess:\n",
    "    saver.restore(sess, \"./RNN_With_Real_Data\")\n",
    "    \n",
    "    train_seed = list(train_scaled[-12:])\n",
    "    print (train_seed)\n",
    "    for i in range(12):\n",
    "        x_batch = np.array(train_seed[-12:]).reshape(1, num_time_step, 1)\n",
    "        y_pred = sess.run(outputs, feed_dict={X:x_batch})\n",
    "        train_seed.append(y_pred[0, -1, 0])\n",
    "train_seed\n",
    "\n",
    "results = scaler.inverse_transform(np.array(train_seed[-12:]).reshape(12, 1))\n",
    "data_test[\"Generate\"] = results\n",
    "print(data_test)"
   ]
  },
  {
   "cell_type": "code",
   "execution_count": 74,
   "metadata": {},
   "outputs": [
    {
     "data": {
      "text/plain": [
       "<matplotlib.axes._subplots.AxesSubplot at 0x11aa71cc0>"
      ]
     },
     "execution_count": 74,
     "metadata": {},
     "output_type": "execute_result"
    },
    {
     "data": {
      "image/png": "[encoded data removed]",
      "text/plain": [
       "<matplotlib.figure.Figure at 0x10a7f49b0>"
      ]
     },
     "metadata": {},
     "output_type": "display_data"
    }
   ],
   "source": [
    "data_test.plot()"
   ]
  },
  {
   "cell_type": "code",
   "execution_count": null,
   "metadata": {
    "collapsed": true
   },
   "outputs": [],
   "source": []
  }
 ],
 "metadata": {
  "kernelspec": {
   "display_name": "Python 3",
   "language": "python",
   "name": "python3"
  },
  "language_info": {
   "codemirror_mode": {
    "name": "ipython",
    "version": 3
   },
   "file_extension": ".py",
   "mimetype": "text/x-python",
   "name": "python",
   "nbconvert_exporter": "python",
   "pygments_lexer": "ipython3",
   "version": "3.5.4"
  }
 },
 "nbformat": 4,
 "nbformat_minor": 2
}
