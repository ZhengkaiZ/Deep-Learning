{
 "cells": [
  {
   "cell_type": "code",
   "execution_count": 1,
   "metadata": {
    "collapsed": true
   },
   "outputs": [],
   "source": [
    "import numpy as np\n",
    "import tensorflow as tf\n",
    "import matplotlib.pylab as plt\n",
    "%matplotlib inline"
   ]
  },
  {
   "cell_type": "code",
   "execution_count": 33,
   "metadata": {
    "collapsed": true
   },
   "outputs": [],
   "source": [
    "class TimeSeriesData():\n",
    "    def __init__(self, num_points, xmin, xmax):\n",
    "        \n",
    "        self.min = xmin\n",
    "        self.max = xmax\n",
    "        self.num_points = num_points\n",
    "        self.resolution = (xmax - xmin) / num_points\n",
    "        self.x_data = np.linspace(start=xmin, stop=xmax, num=num_points)\n",
    "        self.y_data = np.sin(self.x_data)\n",
    "    \n",
    "    def ret_true(self, x_series):\n",
    "        return np.sin(x_series)\n",
    "    \n",
    "    def next_batch(self, batch_size, steps, return_batch_ts=False):\n",
    "        \n",
    "        rand_start = np.random.rand(batch_size, 1)\n",
    "        \n",
    "        ts_start = rand_start * (self.max - self.min - self.resolution * steps)\n",
    "        \n",
    "        batch_ts = ts_start + np.arange(steps + 1) * self.resolution\n",
    "        \n",
    "        y_batch = np.sin(batch_ts)\n",
    "        \n",
    "        if (return_batch_ts):\n",
    "            return y_batch[:, :-1].reshape(batch_size, steps, 1), y_batch[:,1:].reshape(batch_size, steps, 1), batch_ts\n",
    "        else:\n",
    "            return y_batch[:, :-1].reshape(batch_size, steps, 1), y_batch[:,1:].reshape(batch_size, steps, 1)\n",
    "        \n"
   ]
  },
  {
   "cell_type": "code",
   "execution_count": 38,
   "metadata": {},
   "outputs": [
    {
     "name": "stdout",
     "output_type": "stream",
     "text": [
      "0 \tMSE: 0.0541992\n",
      "100 \tMSE: 0.0133054\n",
      "200 \tMSE: 0.00372103\n",
      "300 \tMSE: 0.0103516\n",
      "400 \tMSE: 0.00486993\n",
      "500 \tMSE: 9.28489e-05\n",
      "600 \tMSE: 0.000142341\n",
      "700 \tMSE: 7.74565e-05\n",
      "800 \tMSE: 8.24477e-05\n",
      "900 \tMSE: 0.00032884\n",
      "1000 \tMSE: 0.000139496\n",
      "1100 \tMSE: 0.000307636\n",
      "1200 \tMSE: 0.000230173\n",
      "1300 \tMSE: 0.000186161\n",
      "1400 \tMSE: 0.000146562\n",
      "1500 \tMSE: 0.000209765\n",
      "1600 \tMSE: 0.000141819\n",
      "1700 \tMSE: 0.000251\n",
      "1800 \tMSE: 0.000208074\n",
      "1900 \tMSE: 0.000172878\n"
     ]
    }
   ],
   "source": [
    "tf.reset_default_graph()\n",
    "\n",
    "num_time_step = 30\n",
    "num_inputs = 1\n",
    "num_neurons = 100\n",
    "num_output = 1\n",
    "learning_rate = 0.001\n",
    "num_train_iterations = 2000\n",
    "batch_size = 1\n",
    "\n",
    "# y placeholder (tensor)\n",
    "y = tf.placeholder(tf.float32, [None, num_time_step, 1])\n",
    "# x placeholder (tensor)\n",
    "x = tf.placeholder(tf.float32, [None, num_time_step, 1])\n",
    "\n",
    "cell = tf.contrib.rnn.OutputProjectionWrapper(\n",
    "        tf.contrib.rnn.BasicRNNCell(num_units=num_neurons, activation=tf.nn.relu),\n",
    "        output_size=num_output)\n",
    "\n",
    "output, states = tf.nn.dynamic_rnn(cell=cell, inputs=x, dtype=tf.float32)\n",
    "\n",
    "loss = tf.reduce_mean(tf.square(output - y))\n",
    "optimizer = tf.train.AdamOptimizer(learning_rate=learning_rate)\n",
    "train = optimizer.minimize(loss)\n",
    "\n",
    "init = tf.global_variables_initializer()\n",
    "\n",
    "# gpu_options = tf.GPUOptions(per_process_gpu_memory_fraction=0.85)\n",
    "saver = tf.train.Saver()\n",
    "\n",
    "tsd = TimeSeriesData(xmin=-10, xmax=10, num_points=1000)\n",
    "\n",
    "with tf.Session() as sess:\n",
    "    sess.run(init)\n",
    "    \n",
    "    for i in range(num_train_iterations):\n",
    "        x_batch, y_batch = tsd.next_batch(batch_size, num_time_step)\n",
    "        \n",
    "        sess.run(train, feed_dict = {x:x_batch, y:y_batch})\n",
    "        \n",
    "        if ((i % 100) == 0):\n",
    "            \n",
    "            mse = loss.eval(feed_dict={x: x_batch, y: y_batch})\n",
    "            print (i, \"\\tMSE:\", mse)\n",
    "            \n",
    "    saver.save(sess, \"./RNN_Model\")"
   ]
  },
  {
   "cell_type": "code",
   "execution_count": 45,
   "metadata": {},
   "outputs": [
    {
     "name": "stdout",
     "output_type": "stream",
     "text": [
      "INFO:tensorflow:Restoring parameters from ./RNN_Model\n"
     ]
    },
    {
     "data": {
      "text/plain": [
       "<matplotlib.collections.PathCollection at 0x120b18278>"
      ]
     },
     "execution_count": 45,
     "metadata": {},
     "output_type": "execute_result"
    },
    {
     "data": {
      "image/png": "[encoded data removed]",
      "text/plain": [
       "<matplotlib.figure.Figure at 0x120a97a90>"
      ]
     },
     "metadata": {},
     "output_type": "display_data"
    }
   ],
   "source": [
    "y_now, y_next = tsd.next_batch(batch_size=1,steps=num_time_step, return_batch_ts=False)\n",
    "with tf.Session() as sess:\n",
    "    saver.restore(sess, \"./RNN_Model\")\n",
    "    \n",
    "    y_pred = sess.run(output, feed_dict={x:y_now})"
   ]
  },
  {
   "cell_type": "code",
   "execution_count": null,
   "metadata": {
    "collapsed": true
   },
   "outputs": [],
   "source": [
    "data = TimeSeriesData(100, -10, 10)\n",
    "y_now, y_next = data.next_batch(1, 10)"
   ]
  }
 ],
 "metadata": {
  "kernelspec": {
   "display_name": "Python 3",
   "language": "python",
   "name": "python3"
  },
  "language_info": {
   "codemirror_mode": {
    "name": "ipython",
    "version": 3
   },
   "file_extension": ".py",
   "mimetype": "text/x-python",
   "name": "python",
   "nbconvert_exporter": "python",
   "pygments_lexer": "ipython3",
   "version": "3.5.4"
  }
 },
 "nbformat": 4,
 "nbformat_minor": 2
}
