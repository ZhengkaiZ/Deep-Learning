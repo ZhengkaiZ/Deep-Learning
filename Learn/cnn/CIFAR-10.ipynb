{
 "cells": [
  {
   "cell_type": "code",
   "execution_count": 14,
   "metadata": {
    "collapsed": true
   },
   "outputs": [],
   "source": [
    "import tensorflow as tf\n",
    "import numpy as np\n",
    "import matplotlib.pyplot as plt\n",
    "%matplotlib inline\n",
    "import pickle"
   ]
  },
  {
   "cell_type": "code",
   "execution_count": 4,
   "metadata": {
    "collapsed": true
   },
   "outputs": [],
   "source": [
    "CIFAR_DIR = '/Users/zhengkaizhang/Desktop/Code/Deep-Learning/Learn/cnn/cifar-10-batches-py/'\n",
    "\n",
    "dirs = ['batches.meta','data_batch_1','data_batch_2','data_batch_3','data_batch_4','data_batch_5','test_batch']\n",
    "\n",
    "def unpickle(file):\n",
    "    with open(file, 'rb') as fo:\n",
    "        cifar_dict = pickle.load(fo, encoding='bytes')\n",
    "    return cifar_dict\n",
    "all_data = []\n",
    "for direc in dirs:\n",
    "    all_data.append(unpickle(CIFAR_DIR + direc))"
   ]
  },
  {
   "cell_type": "markdown",
   "metadata": {},
   "source": [
    "# Helper Function"
   ]
  },
  {
   "cell_type": "code",
   "execution_count": 5,
   "metadata": {
    "collapsed": true
   },
   "outputs": [],
   "source": [
    "def one_hot_encoder(vec, vals=10):\n",
    "\n",
    "    n = len(vec)\n",
    "    result = np.zeros((n, vals))               \n",
    "    result[range(n), vec] = 1\n",
    "    return result"
   ]
  },
  {
   "cell_type": "code",
   "execution_count": 75,
   "metadata": {
    "collapsed": true
   },
   "outputs": [],
   "source": [
    "class CifarHelper():\n",
    "    \n",
    "    def __init__(self):\n",
    "        self.i = 0\n",
    "        self.all_train_batches = all_data[1:6]\n",
    "        self.test_batch = all_data[6]\n",
    "        \n",
    "        self.training_images = None\n",
    "        self.training_labels = None\n",
    "        \n",
    "        self.test_images = None\n",
    "        self.test_labels = None\n",
    "    \n",
    "    def set_up_images(self):\n",
    "        \n",
    "        print (\"Start to Set up Images and Labels!\")\n",
    "        print (\"Training Data First!\")\n",
    "\n",
    "        self.training_images = np.vstack([tmp[b\"data\"] for tmp in self.all_train_batches])\n",
    "        train_length = len(self.training_images)\n",
    "        # Training Image\n",
    "        self.training_images = self.training_images.reshape(train_length, 3, 32, 32).transpose(0, 2, 3, 1) / 255\n",
    "        # Training Labels\n",
    "        self.training_labels = one_hot_encoder(np.hstack([tmp[b\"labels\"] for tmp in self.all_train_batches]))\n",
    "        \n",
    "        print (\"Then Test Data.\")\n",
    "        self.test_images = self.test_batch[b'data']\n",
    "        test_length = len(self.test_images)\n",
    "        # Test Image\n",
    "        self.test_images = self.test_images.reshape(test_length, 3, 32, 32).transpose(0, 2, 3, 1) / 255\n",
    "        # Test Labels\n",
    "        self.test_labels = one_hot_encoder(self.test_batch[b'labels'])\n",
    "        \n",
    "    def next_batch(self, batch_size=50):\n",
    "        x = self.training_images[self.i:self.i + batch_size].reshape(batch_size, 32, 32, 3)\n",
    "        y = self.training_labels[self.i:self.i + batch_size]\n",
    "\n",
    "        self.i = (self.i + batch_size) % len(self.training_images)\n",
    "\n",
    "        return x, y"
   ]
  },
  {
   "cell_type": "code",
   "execution_count": 76,
   "metadata": {},
   "outputs": [
    {
     "name": "stdout",
     "output_type": "stream",
     "text": [
      "Start to Set up Images and Labels!\n",
      "Training Data First!\n",
      "Then Test Data.\n"
     ]
    }
   ],
   "source": [
    "ch = CifarHelper()\n",
    "ch.set_up_images()"
   ]
  },
  {
   "cell_type": "markdown",
   "metadata": {},
   "source": [
    "# Helper Functions"
   ]
  },
  {
   "cell_type": "code",
   "execution_count": 73,
   "metadata": {
    "collapsed": true
   },
   "outputs": [],
   "source": [
    "def init_weights(shape):\n",
    "    weights = tf.truncated_normal(shape=shape, stddev=0.1)\n",
    "    return tf.Variable(weights)\n",
    "\n",
    "def init_bias(shape):\n",
    "    bias = tf.constant(shape=shape, value=1.0)\n",
    "    return tf.Variable(bias)\n",
    "\n",
    "def conv2d(x, W):\n",
    "    return tf.nn.conv2d(input=x, filter=W, strides=[1, 1, 1, 1], padding='SAME')\n",
    "\n",
    "def max_pool_2by2(x):\n",
    "    return tf.nn.max_pool(x, ksize=[1, 2, 2, 1], strides=[1, 2, 2, 1], padding='SAME')"
   ]
  },
  {
   "cell_type": "markdown",
   "metadata": {},
   "source": [
    "# Layers"
   ]
  },
  {
   "cell_type": "code",
   "execution_count": 72,
   "metadata": {
    "collapsed": true
   },
   "outputs": [],
   "source": [
    "def conv_layer(x, shape):\n",
    "    W = init_weights(shape)\n",
    "    b = init_bias([shape[3]])\n",
    "    return tf.nn.relu(conv2d(x, W) + b)\n",
    "\n",
    "def fully_connected_layer(x, size):\n",
    "    x_shape = x.get_shape()\n",
    "    W = init_weights([int(x_shape[1]), size])\n",
    "    b = init_bias([size])\n",
    "    \n",
    "    return tf.matmul(x, W) + b"
   ]
  },
  {
   "cell_type": "markdown",
   "metadata": {},
   "source": [
    "# Placeholders"
   ]
  },
  {
   "cell_type": "code",
   "execution_count": 82,
   "metadata": {},
   "outputs": [],
   "source": [
    "x = tf.placeholder(dtype=tf.float32, shape=[None, 32, 32, 3])\n",
    "y_true = tf.placeholder(dtype=tf.float32, shape=[None, 10])\n",
    "hold_prob = tf.placeholder(dtype=tf.float32)\n",
    "\n",
    "conv1 = conv_layer(x, [4, 4, 3, 32])\n",
    "pooling1 = max_pool_2by2(conv1)\n",
    "\n",
    "conv2 = conv_layer(pooling1, [4, 4, 32, 64])\n",
    "pooling2 = max_pool_2by2(conv2)\n",
    "\n",
    "flat = tf.reshape(tensor=pooling2, shape=[-1, 8 * 8 * 64])\n",
    "full_layer_one = tf.nn.relu(fully_connected_layer(x=flat, size=1024))\n",
    "dropout = tf.nn.dropout(x=full_layer_one, keep_prob=hold_prob)\n",
    "y_pred = fully_connected_layer(x=dropout, size=10)\n",
    "\n",
    "loss = tf.nn.softmax_cross_entropy_with_logits(labels=y_true, logits=y_pred)\n",
    "optimizer = tf.train.AdamOptimizer(learning_rate=0.001)\n",
    "train = optimizer.minimize(loss)\n",
    "\n",
    "init = tf.global_variables_initializer()"
   ]
  },
  {
   "cell_type": "markdown",
   "metadata": {},
   "source": [
    "# Train"
   ]
  },
  {
   "cell_type": "code",
   "execution_count": null,
   "metadata": {},
   "outputs": [
    {
     "name": "stdout",
     "output_type": "stream",
     "text": [
      "At Step 0\n",
      "Accuracy is \n",
      "0.1\n",
      "\n",
      "At Step 100\n",
      "Accuracy is \n"
     ]
    }
   ],
   "source": [
    "steps = 100000\n",
    "with tf.Session() as sess:\n",
    "    sess.run(init)\n",
    "\n",
    "    for step in range(steps):\n",
    "        x_batch, y_batch = ch.next_batch()\n",
    "        sess.run(train, feed_dict={x:x_batch, y_true:y_batch, hold_prob:0.5})\n",
    "\n",
    "        if (step % 100) != 0:\n",
    "            continue\n",
    "        \n",
    "        x_test = ch.test_images\n",
    "        y_test = ch.test_labels\n",
    "        print (\"At Step {}\".format(step))\n",
    "        matches = tf.equal(tf.argmax(y_pred, 1), tf.argmax(y_true, 1))\n",
    "        acc = tf.reduce_mean(tf.cast(matches, dtype=tf.float32))\n",
    "        print (\"Accuracy is \")\n",
    "        print (sess.run(acc, feed_dict={x:x_test, y_true:y_test, hold_prob:1.0}))\n",
    "        print ()"
   ]
  },
  {
   "cell_type": "code",
   "execution_count": null,
   "metadata": {
    "collapsed": true
   },
   "outputs": [],
   "source": []
  }
 ],
 "metadata": {
  "kernelspec": {
   "display_name": "Python 3",
   "language": "python",
   "name": "python3"
  },
  "language_info": {
   "codemirror_mode": {
    "name": "ipython",
    "version": 3
   },
   "file_extension": ".py",
   "mimetype": "text/x-python",
   "name": "python",
   "nbconvert_exporter": "python",
   "pygments_lexer": "ipython3",
   "version": "3.5.4"
  }
 },
 "nbformat": 4,
 "nbformat_minor": 2
}
